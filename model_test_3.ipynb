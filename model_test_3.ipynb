{
 "cells": [
  {
   "cell_type": "code",
   "execution_count": 1,
   "metadata": {},
   "outputs": [],
   "source": [
    "import wave\n",
    "import os\n",
    "import io\n",
    "import pathlib\n",
    "from pathlib import Path\n",
    "from scipy.io import wavfile\n",
    "import sounddevice as sd\n",
    "import time\n",
    "import librosa as lb\n",
    "import librosa.display as dsp\n",
    "import numpy as np\n",
    "import matplotlib.pyplot as plt\n",
    "from os import path, listdir\n",
    "import pandas as pd\n",
    "import tensorflow as tf\n",
    "from tensorflow import keras\n",
    "from tensorflow.keras import datasets, layers, models"
   ]
  },
  {
   "cell_type": "code",
   "execution_count": 2,
   "metadata": {},
   "outputs": [],
   "source": [
    "model = keras.models.load_model('model')"
   ]
  },
  {
   "cell_type": "code",
   "execution_count": 3,
   "metadata": {},
   "outputs": [],
   "source": [
    "CHUNK_SIZE = 1000\n",
    "SAMPLING_FREQUENCY = 16000\n",
    "REAL_CATEGORIES = [\"bed\", \"bird\", \"cat\", \"dog\", \"down\", \"eight\", \"five\", \"four\",\"go\",\"happy\",\"house\",\"left\",\"marvin\",\"nine\",\"no\",\"off\",\"on\",\"one\",\"right\",\"seven\",\"sheila\",\"six\",\"stop\",\"three\",\"tree\",\"two\",\"up\",\"wow\",\"yes\",\"zero\"]\n",
    "revDict = dict()\n",
    "for i in range(len(REAL_CATEGORIES)):\n",
    "    revDict[i] = REAL_CATEGORIES[i]"
   ]
  },
  {
   "cell_type": "code",
   "execution_count": 24,
   "metadata": {},
   "outputs": [
    {
     "name": "stdout",
     "output_type": "stream",
     "text": [
      "prediction: wow\n"
     ]
    }
   ],
   "source": [
    "p = Path(r'input/wow/0f7205ef_nohash_0.wav')\n",
    "samplerate, data = wavfile.read(p)\n",
    "data = data.astype(float)\n",
    "mfcc_sample = lb.feature.mfcc(y = data, sr = samplerate, n_mfcc = 32)\n",
    "if(mfcc_sample.shape[1] != 32):\n",
    "        temp_shell = np.zeros((32,32))\n",
    "        temp_shell[0:mfcc_sample.shape[0], 0:mfcc_sample.shape[1]] += mfcc_sample\n",
    "        pred = model.predict(temp_shell.reshape(1,32,32,1))\n",
    "else:\n",
    "    pred = model.predict(mfcc_sample.reshape(1,32,32,1))\n",
    "\n",
    "print('prediction:', revDict[np.argmax(pred)])\n",
    "#print(\"softmax: \", pred)\n",
    "#print(pred.shape)\n",
    "\n",
    "pred = pred.ravel()\n",
    "\n",
    "pred_class = None"
   ]
  },
  {
   "cell_type": "code",
   "execution_count": null,
   "metadata": {},
   "outputs": [],
   "source": []
  }
 ],
 "metadata": {
  "kernelspec": {
   "display_name": "Python 3",
   "language": "python",
   "name": "python3"
  },
  "language_info": {
   "codemirror_mode": {
    "name": "ipython",
    "version": 3
   },
   "file_extension": ".py",
   "mimetype": "text/x-python",
   "name": "python",
   "nbconvert_exporter": "python",
   "pygments_lexer": "ipython3",
   "version": "3.7.6"
  }
 },
 "nbformat": 4,
 "nbformat_minor": 4
}

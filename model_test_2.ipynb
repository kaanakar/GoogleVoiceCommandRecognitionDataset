{
 "cells": [
  {
   "cell_type": "code",
   "execution_count": 1,
   "metadata": {},
   "outputs": [],
   "source": [
    "import wave\n",
    "import os\n",
    "import io\n",
    "import pathlib\n",
    "from pathlib import Path\n",
    "from scipy.io import wavfile\n",
    "import sounddevice as sd\n",
    "import time\n",
    "import librosa as lb\n",
    "import librosa.display as dsp\n",
    "import numpy as np\n",
    "import matplotlib.pyplot as plt\n",
    "from os import path, listdir\n",
    "import pandas as pd\n",
    "import tensorflow as tf\n",
    "from tensorflow import keras\n",
    "from tensorflow.keras import datasets, layers, models"
   ]
  },
  {
   "cell_type": "code",
   "execution_count": 2,
   "metadata": {},
   "outputs": [],
   "source": [
    "import time"
   ]
  },
  {
   "cell_type": "code",
   "execution_count": 10,
   "metadata": {},
   "outputs": [
    {
     "name": "stdout",
     "output_type": "stream",
     "text": [
      "started\n",
      "stopped\n"
     ]
    }
   ],
   "source": [
    "audio_in = sd.InputStream(samplerate = 16000, channels = 1)\n",
    "audio_in.start()\n",
    "print('started')\n",
    "data_chunk, _ = audio_in.read(16000)\n",
    "audio_in.stop()\n",
    "print('stopped')\n",
    "sd.play(data_chunk, 16000)\n",
    "time.sleep(1.0)\n",
    "sd.stop()"
   ]
  },
  {
   "cell_type": "code",
   "execution_count": 29,
   "metadata": {},
   "outputs": [],
   "source": [
    "data_chunk_r = data_chunk.ravel()\n",
    "data_chunk_r = data_chunk_r.astype(float)"
   ]
  },
  {
   "cell_type": "code",
   "execution_count": 43,
   "metadata": {},
   "outputs": [],
   "source": [
    "mfcc_sample = lb.feature.mfcc(y = data_chunk_r, sr = 16000, n_mfcc = 32)\n",
    "melnormalized = lb.util.normalize(mfcc_sample)\n",
    "mel_ah = mfcc_sample - 100\n",
    "mel_ah = mel_ah*-1"
   ]
  },
  {
   "cell_type": "code",
   "execution_count": 44,
   "metadata": {},
   "outputs": [
    {
     "data": {
      "image/png": "[encoded data removed]",
      "text/plain": [
       "<Figure size 720x288 with 2 Axes>"
      ]
     },
     "metadata": {
      "needs_background": "light"
     },
     "output_type": "display_data"
    }
   ],
   "source": [
    "plt.figure(figsize=(10, 4))\n",
    "lb.display.specshow(mel_ah, x_axis='time')\n",
    "plt.colorbar()\n",
    "plt.title('MFCC')\n",
    "plt.tight_layout()"
   ]
  },
  {
   "cell_type": "code",
   "execution_count": 22,
   "metadata": {},
   "outputs": [
    {
     "data": {
      "text/plain": [
       "(32, 32)"
      ]
     },
     "execution_count": 22,
     "metadata": {},
     "output_type": "execute_result"
    }
   ],
   "source": [
    "mfcc_sample.shape"
   ]
  },
  {
   "cell_type": "code",
   "execution_count": 23,
   "metadata": {},
   "outputs": [],
   "source": [
    "model = keras.models.load_model('model')"
   ]
  },
  {
   "cell_type": "code",
   "execution_count": 45,
   "metadata": {},
   "outputs": [],
   "source": [
    "pred = model.predict(mel_ah.reshape(1,32,32,1))"
   ]
  },
  {
   "cell_type": "code",
   "execution_count": 25,
   "metadata": {},
   "outputs": [],
   "source": [
    "REAL_CATEGORIES = [\"bed\", \"bird\", \"cat\", \"dog\", \"down\", \"eight\", \"five\", \"four\",\"go\",\"happy\",\"house\",\"left\",\"marvin\",\"nine\",\"no\",\"off\",\"on\",\"one\",\"right\",\"seven\",\"sheila\",\"six\",\"stop\",\"three\",\"tree\",\"two\",\"up\",\"wow\",\"yes\",\"zero\"]\n",
    "revDict = dict()\n",
    "for i in range(len(REAL_CATEGORIES)):\n",
    "    revDict[i] = REAL_CATEGORIES[i]"
   ]
  },
  {
   "cell_type": "code",
   "execution_count": 46,
   "metadata": {},
   "outputs": [
    {
     "name": "stdout",
     "output_type": "stream",
     "text": [
      "prediction: zero\n",
      "pred_class: zero\n"
     ]
    }
   ],
   "source": [
    "print('prediction:', revDict[np.argmax(pred)])\n",
    "    \n",
    "pred = pred.ravel()\n",
    "\n",
    "pred_class = None\n",
    "\n",
    "for i in range(len(pred)):\n",
    "    if pred[i] > 0.86:\n",
    "        pred_class = revDict[i]  \n",
    "print(\"pred_class:\", pred_class)"
   ]
  },
  {
   "cell_type": "code",
   "execution_count": 27,
   "metadata": {},
   "outputs": [],
   "source": [
    "sd.play(data_chunk, 16000)\n",
    "time.sleep(1.0)\n",
    "sd.stop()"
   ]
  },
  {
   "cell_type": "code",
   "execution_count": null,
   "metadata": {},
   "outputs": [],
   "source": []
  }
 ],
 "metadata": {
  "kernelspec": {
   "display_name": "Python 3",
   "language": "python",
   "name": "python3"
  },
  "language_info": {
   "codemirror_mode": {
    "name": "ipython",
    "version": 3
   },
   "file_extension": ".py",
   "mimetype": "text/x-python",
   "name": "python",
   "nbconvert_exporter": "python",
   "pygments_lexer": "ipython3",
   "version": "3.7.6"
  }
 },
 "nbformat": 4,
 "nbformat_minor": 4
}
